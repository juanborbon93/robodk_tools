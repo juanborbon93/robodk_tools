{
 "cells": [
  {
   "cell_type": "markdown",
   "metadata": {},
   "source": [
    "# Motion Planning Examples"
   ]
  },
  {
   "cell_type": "code",
   "execution_count": null,
   "metadata": {},
   "outputs": [],
   "source": [
    "from robodk import robolink\n",
    "from path_planning.rdk_path_planning import *\n",
    "\n",
    "\n",
    "# connect to the RoboDK API\n",
    "rdk = robolink.Robolink()\n",
    "\n",
    "# define the weights for the distance function\n",
    "decay_rate = 0.45\n",
    "weights = np.exp(-np.arange(6)*decay_rate)\n",
    "# the distance function allows us to calculate the cost of moving between two robot configurations\n",
    "# the cost is calculated as the weighted sum of the absolute difference between the joint values\n",
    "dist_function = lambda J1,J2: eucledean_distance(J1,J2,weights)\n",
    "\n",
    "# define the start and goal configurations (stored as a list of joint values)\n",
    "J1 = rdk.Item(\"J1\").Joints().tolist()\n",
    "J2 = rdk.Item(\"J2\").Joints().tolist()"
   ]
  },
  {
   "cell_type": "markdown",
   "metadata": {},
   "source": [
    "# Probabilistic Roadmap Motion Planning\n",
    "\n",
    "Here we show the ability to load different PRM maps and use them to plan trajectories between J1 and J2\n",
    "\n",
    "This expands on the current capabilities of RoboDK by letting you load multiple PRM maps. These different maps could each correspond to a known configuration of the robot cell (example: door open vs door closed)"
   ]
  },
  {
   "cell_type": "code",
   "execution_count": 20,
   "metadata": {},
   "outputs": [
    {
     "name": "stdout",
     "output_type": "stream",
     "text": [
      "[170]\n"
     ]
    }
   ],
   "source": [
    "collision_map = CollisionMap.load(\"PRM_1.npz\")\n",
    "rdk_path_planner = RDKPathPlanner(\n",
    "    rdk = rdk, robot_name='Omron TM12X',min_step=5.0,configuration_distance_func=dist_function, collision_map=collision_map)\n",
    "J1 = rdk.Item(\"J1\").Joints().tolist()\n",
    "J2 = rdk.Item(\"J2\").Joints().tolist()\n",
    "path = rdk_path_planner.plan_path(J1,J2)\n",
    "if path:\n",
    "    rdk_path_planner.robot.setJoints(path[0])\n",
    "for j in path:\n",
    "    rdk_path_planner.robot.MoveJ(j)\n"
   ]
  },
  {
   "cell_type": "code",
   "execution_count": 19,
   "metadata": {},
   "outputs": [
    {
     "name": "stdout",
     "output_type": "stream",
     "text": [
      "[456, 43, 75, 450]\n"
     ]
    }
   ],
   "source": [
    "collision_map = CollisionMap.load(\"PRM_2.npz\")\n",
    "rdk_path_planner = RDKPathPlanner(\n",
    "    rdk = rdk, robot_name='Omron TM12X',min_step=5.0,configuration_distance_func=dist_function, collision_map=collision_map)\n",
    "J1 = rdk.Item(\"J1\").Joints().tolist()\n",
    "J2 = rdk.Item(\"J2\").Joints().tolist()\n",
    "path = rdk_path_planner.plan_path(J1,J2)\n",
    "if path:\n",
    "    rdk_path_planner.robot.setJoints(path[0])\n",
    "for j in path:\n",
    "    rdk_path_planner.robot.MoveJ(j)"
   ]
  },
  {
   "cell_type": "markdown",
   "metadata": {},
   "source": [
    "# Creating a new PRM and saving it to a file"
   ]
  },
  {
   "cell_type": "code",
   "execution_count": null,
   "metadata": {},
   "outputs": [],
   "source": [
    "rdk = robolink.Robolink()\n",
    "rdk_path_planner = RDKPathPlanner(\n",
    "    rdk = rdk, robot_name='Omron TM12X',\n",
    "    min_step=5.0,configuration_distance_func=dist_function)\n",
    "rdk_path_planner.generate_prm(n_samples=500,max_connections_per_node=5,neighborhood_radius=100)\n",
    "rdk_path_planner.collision_map.save(\"PRM_3.npz\")"
   ]
  },
  {
   "cell_type": "markdown",
   "metadata": {},
   "source": [
    "# Rapidly Exploring Random Trees (RRT)\n",
    "\n",
    "If the robot station can have configuration states that cannot be known ahead of time, it is impossible to have a set of PRM maps that would work for every situation. The RRT approach allows us to create a tree structure which starts at J1 and tries to \"grow\" towards J2. The resultant motion is a bit zig-zaggy, but it is considerably faster in generating a plan when a PRM approach is not feasable."
   ]
  },
  {
   "cell_type": "code",
   "execution_count": 23,
   "metadata": {},
   "outputs": [
    {
     "name": "stderr",
     "output_type": "stream",
     "text": [
      " 45%|████▌     | 90/200 [00:13<00:16,  6.51it/s]\n"
     ]
    },
    {
     "name": "stdout",
     "output_type": "stream",
     "text": [
      "Solution found\n"
     ]
    }
   ],
   "source": [
    "# create the path planner object\n",
    "rdk_path_planner = RDKPathPlanner(rdk = rdk, robot_name='Omron TM12X',min_step=5.0,configuration_distance_func=dist_function)\n",
    "# use the RRT algorithm to generate a path between the start and goal configurations\n",
    "# this will return a list of joint configurations. an empty list means that no path was found\n",
    "plan = rdk_path_planner.generate_rrt_plan(J1,J2,max_iterations=200,goal_bias=0.1,step_size=20.0)\n",
    "# if a plan is found, move the robot along the path\n",
    "if plan:\n",
    "    rdk_path_planner.robot.setJoints(plan[0])\n",
    "    for j in plan:\n",
    "        rdk_path_planner.robot.MoveJ(j)"
   ]
  }
 ],
 "metadata": {
  "kernelspec": {
   "display_name": ".venv",
   "language": "python",
   "name": "python3"
  },
  "language_info": {
   "codemirror_mode": {
    "name": "ipython",
    "version": 3
   },
   "file_extension": ".py",
   "mimetype": "text/x-python",
   "name": "python",
   "nbconvert_exporter": "python",
   "pygments_lexer": "ipython3",
   "version": "3.10.12"
  }
 },
 "nbformat": 4,
 "nbformat_minor": 2
}
